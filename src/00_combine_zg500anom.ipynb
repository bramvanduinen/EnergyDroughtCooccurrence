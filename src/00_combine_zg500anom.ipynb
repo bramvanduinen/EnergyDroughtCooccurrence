{
 "cells": [
  {
   "cell_type": "markdown",
   "metadata": {},
   "source": [
    "Author: Bram van Duinen\n",
    "\n",
    "Date last edited: 31 January 2024\n",
    "\n",
    "Content: Script that uses as input running mean calculated per run (calculated using cdo in running_mean.sh shell script). In this script, those are averaged over all runs and then saved to one netcdf. Now also updated to do the same for zg500 climatology."
   ]
  },
  {
   "cell_type": "code",
   "execution_count": 1,
   "metadata": {},
   "outputs": [],
   "source": [
    "import os\n",
    "import xarray as xr\n",
    "import numpy as np\n",
    "import pandas as pd"
   ]
  },
  {
   "cell_type": "code",
   "execution_count": 49,
   "metadata": {},
   "outputs": [],
   "source": [
    "base_zg500 = '/net/pc230050/nobackup/users/duinen/LENTIS/present/climatology/zg500_d/'\n",
    "zg500 = xr.open_mfdataset(base_zg500+'zg500_d_ECEarth3_h*.nc', concat_dim='run', combine=\"nested\")\n",
    "clim  = zg500.zg500.mean(dim='run').compute()\n",
    "clim['time'] = np.arange(1, 367)\n",
    "clim = clim.rename({'time': 'dayofyear'})"
   ]
  },
  {
   "cell_type": "code",
   "execution_count": 51,
   "metadata": {},
   "outputs": [],
   "source": [
    "clim.to_netcdf(f'../Data/clim_zg500_v1.nc')"
   ]
  }
 ],
 "metadata": {
  "kernelspec": {
   "display_name": "base",
   "language": "python",
   "name": "python3"
  },
  "language_info": {
   "codemirror_mode": {
    "name": "ipython",
    "version": 3
   },
   "file_extension": ".py",
   "mimetype": "text/x-python",
   "name": "python",
   "nbconvert_exporter": "python",
   "pygments_lexer": "ipython3",
   "version": "3.11.4"
  }
 },
 "nbformat": 4,
 "nbformat_minor": 2
}
