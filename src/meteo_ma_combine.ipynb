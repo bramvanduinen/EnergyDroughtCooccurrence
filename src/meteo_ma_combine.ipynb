{
 "cells": [
  {
   "cell_type": "markdown",
   "metadata": {},
   "source": [
    "Author: Bram van Duinen\n",
    "\n",
    "Date last edited: 11 December 2023\n",
    "\n",
    "Content: Script that uses as input running mean calculated per run (calculated using cdo in running_mean.sh shell script). In this script, those are averaged over all runs and then saved to one netcdf. Now also updated to do the same for zg500 climatology."
   ]
  },
  {
   "cell_type": "code",
   "execution_count": 1,
   "metadata": {},
   "outputs": [],
   "source": [
    "import os\n",
    "import xarray as xr\n",
    "import numpy as np\n",
    "import pandas as pd"
   ]
  },
  {
   "cell_type": "code",
   "execution_count": 2,
   "metadata": {},
   "outputs": [],
   "source": [
    "window = 7 #days"
   ]
  },
  {
   "cell_type": "code",
   "execution_count": 47,
   "metadata": {},
   "outputs": [],
   "source": [
    "base = '/net/pc230050/nobackup/users/duinen/runmean_7d/'\n",
    "rsds = xr.open_mfdataset(base+'rsds_d/h*.nc', concat_dim='run', combine=\"nested\")\n",
    "rsds_sum = rsds.mean(dim='run').compute()\n",
    "# rsds_sum.to_netcdf(f'../Data/rsds_{window}d_ma.nc')"
   ]
  },
  {
   "cell_type": "code",
   "execution_count": 4,
   "metadata": {},
   "outputs": [],
   "source": [
    "sfcwind = xr.open_mfdataset(base+'sfcWind_d/h*.nc', concat_dim='run', combine=\"nested\")\n",
    "sfcwind_mean = sfcwind.mean(dim='run').compute()\n",
    "sfcwind_mean .to_netcdf(f'../Data/sfcWind_{window}d_ma.nc')"
   ]
  },
  {
   "cell_type": "code",
   "execution_count": null,
   "metadata": {},
   "outputs": [],
   "source": [
    "tas = xr.open_mfdataset(base+'tas_d/h*.nc', concat_dim='run', combine=\"nested\")\n",
    "tas_mean = tas.mean(dim='run').compute()\n",
    "tas_mean .to_netcdf(f'../Data/tas_{window}d_ma.nc')"
   ]
  }
 ],
 "metadata": {
  "kernelspec": {
   "display_name": "base",
   "language": "python",
   "name": "python3"
  },
  "language_info": {
   "codemirror_mode": {
    "name": "ipython",
    "version": 3
   },
   "file_extension": ".py",
   "mimetype": "text/x-python",
   "name": "python",
   "nbconvert_exporter": "python",
   "pygments_lexer": "ipython3",
   "version": "3.11.4"
  }
 },
 "nbformat": 4,
 "nbformat_minor": 2
}
