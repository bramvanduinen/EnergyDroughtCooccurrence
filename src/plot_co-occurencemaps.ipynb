{
 "cells": [
  {
   "cell_type": "markdown",
   "metadata": {},
   "source": [
    "Author: Bram van Duinen\n",
    "\n",
    "Date last edited: 17 nov 2023\n",
    "\n",
    "Content: This notebook takes the co_occurences calculated in calc_co-occur and plots these on maps for each countries. Figures are saved in the Figures folder."
   ]
  },
  {
   "cell_type": "code",
   "execution_count": 53,
   "metadata": {},
   "outputs": [],
   "source": [
    "import matplotlib.pyplot as plt\n",
    "import matplotlib\n",
    "import cartopy\n",
    "from cartopy.io import shapereader\n",
    "import cartopy.crs as ccrs\n",
    "import geopandas\n",
    "import numpy as np\n",
    "from tqdm.notebook import tqdm"
   ]
  },
  {
   "cell_type": "code",
   "execution_count": 48,
   "metadata": {},
   "outputs": [],
   "source": [
    "co_occurrences = np.load('../Results/co_occurrences.npy')"
   ]
  },
  {
   "cell_type": "code",
   "execution_count": 54,
   "metadata": {},
   "outputs": [
    {
     "data": {
      "application/vnd.jupyter.widget-view+json": {
       "model_id": "d2c06a4b9a7c4cc69184373e285a47dd",
       "version_major": 2,
       "version_minor": 0
      },
      "text/plain": [
       "  0%|          | 0/24 [00:00<?, ?it/s]"
      ]
     },
     "metadata": {},
     "output_type": "display_data"
    },
    {
     "name": "stderr",
     "output_type": "stream",
     "text": [
      "/tmp/ipykernel_4079849/621761602.py:38: MatplotlibDeprecationWarning: The get_cmap function was deprecated in Matplotlib 3.7 and will be removed two minor releases later. Use ``matplotlib.colormaps[name]`` or ``matplotlib.colormaps.get_cmap(obj)`` instead.\n",
      "  cmap = matplotlib.cm.get_cmap('viridis')\n",
      "/tmp/ipykernel_4079849/621761602.py:38: MatplotlibDeprecationWarning: The get_cmap function was deprecated in Matplotlib 3.7 and will be removed two minor releases later. Use ``matplotlib.colormaps[name]`` or ``matplotlib.colormaps.get_cmap(obj)`` instead.\n",
      "  cmap = matplotlib.cm.get_cmap('viridis')\n",
      "/tmp/ipykernel_4079849/621761602.py:38: MatplotlibDeprecationWarning: The get_cmap function was deprecated in Matplotlib 3.7 and will be removed two minor releases later. Use ``matplotlib.colormaps[name]`` or ``matplotlib.colormaps.get_cmap(obj)`` instead.\n",
      "  cmap = matplotlib.cm.get_cmap('viridis')\n",
      "/tmp/ipykernel_4079849/621761602.py:38: MatplotlibDeprecationWarning: The get_cmap function was deprecated in Matplotlib 3.7 and will be removed two minor releases later. Use ``matplotlib.colormaps[name]`` or ``matplotlib.colormaps.get_cmap(obj)`` instead.\n",
      "  cmap = matplotlib.cm.get_cmap('viridis')\n",
      "/tmp/ipykernel_4079849/621761602.py:38: MatplotlibDeprecationWarning: The get_cmap function was deprecated in Matplotlib 3.7 and will be removed two minor releases later. Use ``matplotlib.colormaps[name]`` or ``matplotlib.colormaps.get_cmap(obj)`` instead.\n",
      "  cmap = matplotlib.cm.get_cmap('viridis')\n",
      "/tmp/ipykernel_4079849/621761602.py:38: MatplotlibDeprecationWarning: The get_cmap function was deprecated in Matplotlib 3.7 and will be removed two minor releases later. Use ``matplotlib.colormaps[name]`` or ``matplotlib.colormaps.get_cmap(obj)`` instead.\n",
      "  cmap = matplotlib.cm.get_cmap('viridis')\n",
      "/tmp/ipykernel_4079849/621761602.py:38: MatplotlibDeprecationWarning: The get_cmap function was deprecated in Matplotlib 3.7 and will be removed two minor releases later. Use ``matplotlib.colormaps[name]`` or ``matplotlib.colormaps.get_cmap(obj)`` instead.\n",
      "  cmap = matplotlib.cm.get_cmap('viridis')\n",
      "/tmp/ipykernel_4079849/621761602.py:38: MatplotlibDeprecationWarning: The get_cmap function was deprecated in Matplotlib 3.7 and will be removed two minor releases later. Use ``matplotlib.colormaps[name]`` or ``matplotlib.colormaps.get_cmap(obj)`` instead.\n",
      "  cmap = matplotlib.cm.get_cmap('viridis')\n",
      "/tmp/ipykernel_4079849/621761602.py:38: MatplotlibDeprecationWarning: The get_cmap function was deprecated in Matplotlib 3.7 and will be removed two minor releases later. Use ``matplotlib.colormaps[name]`` or ``matplotlib.colormaps.get_cmap(obj)`` instead.\n",
      "  cmap = matplotlib.cm.get_cmap('viridis')\n",
      "/tmp/ipykernel_4079849/621761602.py:38: MatplotlibDeprecationWarning: The get_cmap function was deprecated in Matplotlib 3.7 and will be removed two minor releases later. Use ``matplotlib.colormaps[name]`` or ``matplotlib.colormaps.get_cmap(obj)`` instead.\n",
      "  cmap = matplotlib.cm.get_cmap('viridis')\n",
      "/tmp/ipykernel_4079849/621761602.py:38: MatplotlibDeprecationWarning: The get_cmap function was deprecated in Matplotlib 3.7 and will be removed two minor releases later. Use ``matplotlib.colormaps[name]`` or ``matplotlib.colormaps.get_cmap(obj)`` instead.\n",
      "  cmap = matplotlib.cm.get_cmap('viridis')\n",
      "/tmp/ipykernel_4079849/621761602.py:38: MatplotlibDeprecationWarning: The get_cmap function was deprecated in Matplotlib 3.7 and will be removed two minor releases later. Use ``matplotlib.colormaps[name]`` or ``matplotlib.colormaps.get_cmap(obj)`` instead.\n",
      "  cmap = matplotlib.cm.get_cmap('viridis')\n",
      "/tmp/ipykernel_4079849/621761602.py:38: MatplotlibDeprecationWarning: The get_cmap function was deprecated in Matplotlib 3.7 and will be removed two minor releases later. Use ``matplotlib.colormaps[name]`` or ``matplotlib.colormaps.get_cmap(obj)`` instead.\n",
      "  cmap = matplotlib.cm.get_cmap('viridis')\n",
      "/tmp/ipykernel_4079849/621761602.py:38: MatplotlibDeprecationWarning: The get_cmap function was deprecated in Matplotlib 3.7 and will be removed two minor releases later. Use ``matplotlib.colormaps[name]`` or ``matplotlib.colormaps.get_cmap(obj)`` instead.\n",
      "  cmap = matplotlib.cm.get_cmap('viridis')\n",
      "/tmp/ipykernel_4079849/621761602.py:38: MatplotlibDeprecationWarning: The get_cmap function was deprecated in Matplotlib 3.7 and will be removed two minor releases later. Use ``matplotlib.colormaps[name]`` or ``matplotlib.colormaps.get_cmap(obj)`` instead.\n",
      "  cmap = matplotlib.cm.get_cmap('viridis')\n",
      "/tmp/ipykernel_4079849/621761602.py:38: MatplotlibDeprecationWarning: The get_cmap function was deprecated in Matplotlib 3.7 and will be removed two minor releases later. Use ``matplotlib.colormaps[name]`` or ``matplotlib.colormaps.get_cmap(obj)`` instead.\n",
      "  cmap = matplotlib.cm.get_cmap('viridis')\n",
      "/tmp/ipykernel_4079849/621761602.py:38: MatplotlibDeprecationWarning: The get_cmap function was deprecated in Matplotlib 3.7 and will be removed two minor releases later. Use ``matplotlib.colormaps[name]`` or ``matplotlib.colormaps.get_cmap(obj)`` instead.\n",
      "  cmap = matplotlib.cm.get_cmap('viridis')\n",
      "/tmp/ipykernel_4079849/621761602.py:38: MatplotlibDeprecationWarning: The get_cmap function was deprecated in Matplotlib 3.7 and will be removed two minor releases later. Use ``matplotlib.colormaps[name]`` or ``matplotlib.colormaps.get_cmap(obj)`` instead.\n",
      "  cmap = matplotlib.cm.get_cmap('viridis')\n",
      "/tmp/ipykernel_4079849/621761602.py:38: MatplotlibDeprecationWarning: The get_cmap function was deprecated in Matplotlib 3.7 and will be removed two minor releases later. Use ``matplotlib.colormaps[name]`` or ``matplotlib.colormaps.get_cmap(obj)`` instead.\n",
      "  cmap = matplotlib.cm.get_cmap('viridis')\n",
      "/tmp/ipykernel_4079849/621761602.py:38: MatplotlibDeprecationWarning: The get_cmap function was deprecated in Matplotlib 3.7 and will be removed two minor releases later. Use ``matplotlib.colormaps[name]`` or ``matplotlib.colormaps.get_cmap(obj)`` instead.\n",
      "  cmap = matplotlib.cm.get_cmap('viridis')\n",
      "/tmp/ipykernel_4079849/621761602.py:38: MatplotlibDeprecationWarning: The get_cmap function was deprecated in Matplotlib 3.7 and will be removed two minor releases later. Use ``matplotlib.colormaps[name]`` or ``matplotlib.colormaps.get_cmap(obj)`` instead.\n",
      "  cmap = matplotlib.cm.get_cmap('viridis')\n",
      "/tmp/ipykernel_4079849/621761602.py:38: MatplotlibDeprecationWarning: The get_cmap function was deprecated in Matplotlib 3.7 and will be removed two minor releases later. Use ``matplotlib.colormaps[name]`` or ``matplotlib.colormaps.get_cmap(obj)`` instead.\n",
      "  cmap = matplotlib.cm.get_cmap('viridis')\n",
      "/tmp/ipykernel_4079849/621761602.py:38: MatplotlibDeprecationWarning: The get_cmap function was deprecated in Matplotlib 3.7 and will be removed two minor releases later. Use ``matplotlib.colormaps[name]`` or ``matplotlib.colormaps.get_cmap(obj)`` instead.\n",
      "  cmap = matplotlib.cm.get_cmap('viridis')\n",
      "/tmp/ipykernel_4079849/621761602.py:38: MatplotlibDeprecationWarning: The get_cmap function was deprecated in Matplotlib 3.7 and will be removed two minor releases later. Use ``matplotlib.colormaps[name]`` or ``matplotlib.colormaps.get_cmap(obj)`` instead.\n",
      "  cmap = matplotlib.cm.get_cmap('viridis')\n"
     ]
    }
   ],
   "source": [
    "basecountry_id = 0\n",
    "# get natural earth data (http://www.naturalearthdata.com/)\n",
    "for basecountry_id in tqdm(range(len(co_occurrences))):\n",
    "    # get country borders\n",
    "    resolution = '10m'\n",
    "    category = 'cultural'\n",
    "    name = 'admin_0_countries'\n",
    "    shpfilename = shapereader.natural_earth(resolution, category, name)\n",
    "\n",
    "    # read the shapefile using geopandas\n",
    "    df = geopandas.read_file(shpfilename)\n",
    "\n",
    "    # Set up the canvas\n",
    "    fig = plt.figure(figsize=(8, 8))\n",
    "    central_lon, central_lat = 0, 45\n",
    "    extent = [-10, 45, 35, 70]\n",
    "    ax = plt.axes(projection=cartopy.crs.Orthographic(central_lon, central_lat))\n",
    "    ax.set_extent(extent)\n",
    "    ax.gridlines()\n",
    "\n",
    "    # Add natural earth features and borders\n",
    "    ax.add_feature(cartopy.feature.BORDERS, linestyle=':', alpha=1)\n",
    "    ax.add_feature(cartopy.feature.OCEAN, facecolor=(\"lightblue\"))\n",
    "    ax.add_feature(cartopy.feature.LAND)\n",
    "    ax.coastlines(resolution='10m')\n",
    "\n",
    "    # Insert your lists of countries and lag times here\n",
    "    countries = ['AUT', 'BGR', 'BIH', 'CHE', 'CZE', 'ESP', 'FIN', 'FRA', 'GBR',\n",
    "        'GRC', 'HRV', 'IRL', 'ITA', 'LVA', 'MKD', 'MNE', 'NOR', 'POL',\n",
    "        'PRT', 'ROU', 'SRB', 'SVK', 'SVN', 'SWE']\n",
    "\n",
    "    co_occur = co_occurrences[basecountry_id]\n",
    "\n",
    "    # Normalise the lag times to between 0 and 1 to extract the colour\n",
    "    co_occur_norm = (co_occur-np.nanmin(co_occur))/(np.nanmax(co_occur) - np.nanmin(co_occur))\n",
    "\n",
    "    # Choose your colourmap here\n",
    "    cmap = matplotlib.cm.get_cmap('viridis')\n",
    "\n",
    "    for country, lag_norm in zip(countries, co_occur_norm):\n",
    "        # read the borders of the country in this loop\n",
    "        poly = df.loc[df['ISO_A3_EH'] == country]['geometry'].values[0]\n",
    "        # get the color for this country\n",
    "        rgba = cmap(lag_norm)\n",
    "        # plot the country on a map\n",
    "        ax.add_geometries(poly, crs=ccrs.PlateCarree(), facecolor=rgba, edgecolor='none', zorder=1)\n",
    "\n",
    "    poly = df.loc[df['ISO_A3_EH'] == countries[basecountry_id]]['geometry'].values[0]\n",
    "    ax.add_geometries(poly, crs=ccrs.PlateCarree(), facecolor='k', edgecolor='none', zorder=1)\n",
    "    # Add a scatter plot of the original data so the colorbar has the correct numbers. Hacky but it works\n",
    "    dummy_scat = ax.scatter(co_occur, co_occur, c=co_occur, cmap=cmap, zorder=0)\n",
    "    fig.colorbar(mappable=dummy_scat, label='Co-occurences of 1-in-10 yr events', orientation='horizontal', shrink=0.8)\n",
    "    plt.savefig(f'../Results/Figures/{countries[basecountry_id]}_Co-occurrences.png', dpi=300, bbox_inches='tight')\n",
    "    plt.close()"
   ]
  }
 ],
 "metadata": {
  "kernelspec": {
   "display_name": "base",
   "language": "python",
   "name": "python3"
  },
  "language_info": {
   "codemirror_mode": {
    "name": "ipython",
    "version": 3
   },
   "file_extension": ".py",
   "mimetype": "text/x-python",
   "name": "python",
   "nbconvert_exporter": "python",
   "pygments_lexer": "ipython3",
   "version": "3.11.4"
  }
 },
 "nbformat": 4,
 "nbformat_minor": 2
}
