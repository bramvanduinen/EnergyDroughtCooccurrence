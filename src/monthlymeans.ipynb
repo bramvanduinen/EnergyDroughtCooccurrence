{
 "cells": [
  {
   "cell_type": "markdown",
   "metadata": {},
   "source": [
    "Author: Bram van Duinen\n",
    "\n",
    "Last edit date: 23 nov 2023\n",
    "\n",
    "Content: Calculating the monthly mean of meteorological variables (wind, insolation, tempearture) per grid cell and saving this to a netcdf. Helps to do this once and save them for computation of anomalies in analysis."
   ]
  },
  {
   "cell_type": "code",
   "execution_count": 1,
   "metadata": {},
   "outputs": [],
   "source": [
    "import os\n",
    "import xarray as xr\n",
    "import matplotlib.pyplot as plt\n",
    "import numpy as np\n",
    "import cartopy.crs as ccrs\n",
    "import cartopy\n",
    "from scipy.ndimage import minimum_filter, maximum_filter\n",
    "import pandas as pd"
   ]
  },
  {
   "cell_type": "code",
   "execution_count": 2,
   "metadata": {},
   "outputs": [],
   "source": [
    "daily = '/net/pc200256/nobackup/users/most/LENTIS/present/day/'\n",
    "\n",
    "wind = xr.open_mfdataset(daily + 'sfcWind_d/sfcWind_d_ECEarth3_h*.nc', combine='nested', concat_dim='run', chunks={})\n",
    "windvar = 'sfcWind'\n",
    "\n",
    "wind['run'] = wind['run'] + 10\n",
    "monthly_wind = wind[windvar].groupby('time.month').mean(dim=['time', 'run']).compute()"
   ]
  },
  {
   "cell_type": "code",
   "execution_count": 3,
   "metadata": {},
   "outputs": [],
   "source": [
    "temp = xr.open_mfdataset(daily + 'tas_d/tas_d_ECEarth3_h*.nc', combine='nested', concat_dim='run', chunks={})\n",
    "tempvar = 'tas'\n",
    "\n",
    "temp['run'] = temp['run'] + 10\n",
    "monthly_temp = temp[tempvar].groupby('time.month').mean(dim=['time', 'run']).compute()"
   ]
  },
  {
   "cell_type": "code",
   "execution_count": 4,
   "metadata": {},
   "outputs": [],
   "source": [
    "sun = xr.open_mfdataset(daily + 'rsds_d/rsds_d_ECEarth3_h*.nc', combine='nested', concat_dim='run', chunks={})\n",
    "sunvar = 'rsds'\n",
    "\n",
    "sun['run'] = sun['run'] + 10\n",
    "monthly_sun = sun[sunvar].groupby('time.month').mean(dim=['time', 'run']).compute()"
   ]
  },
  {
   "cell_type": "code",
   "execution_count": null,
   "metadata": {},
   "outputs": [],
   "source": [
    "monthly_wind.to_netcdf('../Data/monthly_wind.nc')\n",
    "monthly_temp.to_netcdf('../Data/monthly_temp.nc')\n",
    "monthly_sun.to_netcdf('../Data/monthly_sun.nc')"
   ]
  }
 ],
 "metadata": {
  "kernelspec": {
   "display_name": "base",
   "language": "python",
   "name": "python3"
  },
  "language_info": {
   "codemirror_mode": {
    "name": "ipython",
    "version": 3
   },
   "file_extension": ".py",
   "mimetype": "text/x-python",
   "name": "python",
   "nbconvert_exporter": "python",
   "pygments_lexer": "ipython3",
   "version": "3.11.4"
  }
 },
 "nbformat": 4,
 "nbformat_minor": 2
}
